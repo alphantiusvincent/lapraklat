{
  "nbformat": 4,
  "nbformat_minor": 0,
  "metadata": {
    "colab": {
      "provenance": []
    },
    "kernelspec": {
      "name": "python3",
      "display_name": "Python 3"
    },
    "language_info": {
      "name": "python"
    }
  },
  "cells": [
    {
      "cell_type": "code",
      "execution_count": null,
      "metadata": {
        "id": "XF0mh_k_rTZB"
      },
      "outputs": [],
      "source": [
        "input2 = input(\"Masukkan file-2 dan format: \")\n",
        "#open file\n",
        "file1 = open(input1, 'r').readlines()\n",
        "file2 = open(input2, 'r').readlines()\n",
        "\n",
        "max_lines = max(len(file1), len(file2))\n",
        "for i in range(max_lines):\n",
        "            if i < len(file1) and i < len(file2):\n",
        "                if file1[i] != file2[i]:\n",
        "                    print(f\"Perbedaan pada baris {i+1}:\")\n",
        "                    print(f\"File 1: {file1[i]}\", end='')\n",
        "                    print(f\"File 2: {file2[i]}\", end='')\n",
        "            elif i < len(file1):\n",
        "                print(f\"File 1 memiliki baris tambahan di: {i+1}: {file1[i]}\", end='')\n",
        "            else:\n",
        "                print(f\"File 2 memiliki baris tambahan di:{i+1}: {file2[i]}\", end='')\n",
        "\n",
        "\n"
      ]
    },
    {
      "cell_type": "code",
      "source": [
        "#kita buka filenya terlebih dahulu\n",
        "file_laprak = open(\"laprak.txt\", \"r\")\n",
        "lines = file_laprak.readlines()\n",
        "\n",
        "#ubtuk\n",
        "for line in lines:\n",
        "    #untuk memisahkan barisnya\n",
        "    soal, jawaban_benar = line.strip().split(\"||\")\n",
        "    soal = soal.strip()\n",
        "    jawaban_benar = jawaban_benar.lower().strip()\n",
        "\n",
        "#untuk nampiilin soal + dia minta jwban dr user\n",
        "    print(soal)\n",
        "    #untuk membuat huruf kecil dan memnghilangkan spasi\n",
        "    jawaban_user = input(\"Jawab disini: \").lower().strip()\n",
        "#untuk bandingin jawaban dari user sama jawaban yang bener di filenya\n",
        "   #outpput\n",
        "    if jawaban_user == jawaban_benar:\n",
        "        print(\"Jawaban benar!\\n\")\n",
        "    else:\n",
        "        print(\"Jawaban salah!\\n\")"
      ],
      "metadata": {
        "id": "GtdAMgB0s7JJ"
      },
      "execution_count": null,
      "outputs": []
    }
  ]
}